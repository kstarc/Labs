{
  "nbformat": 4,
  "nbformat_minor": 0,
  "metadata": {
    "colab": {
      "name": "Laba_1_1 (1).ipynb",
      "provenance": [],
      "collapsed_sections": []
    },
    "kernelspec": {
      "name": "python3",
      "display_name": "Python 3"
    },
    "language_info": {
      "name": "python"
    }
  },
  "cells": [
    {
      "cell_type": "markdown",
      "source": [
        "# Подготовили студенты Пинкевич А., Яковлева С., Старченко К."
      ],
      "metadata": {
        "id": "sLoJJKlHiaFc"
      }
    },
    {
      "cell_type": "code",
      "metadata": {
        "id": "npmZzySWZkSg"
      },
      "source": [
        "import pandas as pd #подключаем библиотеки\n",
        "import numpy as np\n",
        "import matplotlib.pyplot as plt\n",
        "import seaborn as sns\n",
        "from sklearn import preprocessing\n",
        "from sklearn.model_selection import train_test_split\n",
        "%matplotlib inline"
      ],
      "execution_count": null,
      "outputs": []
    },
    {
      "cell_type": "markdown",
      "metadata": {
        "id": "GYhrPdcfhXME"
      },
      "source": [
        "Загружаем наши данные в формате .csv, в рамках данной лабораторной работы будем проверять гипотезу, что выигранные игры схожи по признакам, поэтому будем предсказывать значение blue_win.\n"
      ]
    },
    {
      "cell_type": "code",
      "metadata": {
        "colab": {
          "base_uri": "https://localhost:8080/",
          "height": 538
        },
        "id": "MyAPnyIGZnHe",
        "outputId": "6c22d4a3-3402-42fe-d8c2-e77948d07442"
      },
      "source": [
        "#Сброс ограничений на число столбцов\n",
        "pd.set_option('display.max_columns', None)\n",
        "df = pd.read_csv('/content/sample_data/MatchTimelinesFirst15.csv')\n",
        "df.head(15) #наши данные, смотрим на 15 записей из набора данных"
      ],
      "execution_count": null,
      "outputs": [
        {
          "output_type": "execute_result",
          "data": {
            "text/html": [
              "<div>\n",
              "<style scoped>\n",
              "    .dataframe tbody tr th:only-of-type {\n",
              "        vertical-align: middle;\n",
              "    }\n",
              "\n",
              "    .dataframe tbody tr th {\n",
              "        vertical-align: top;\n",
              "    }\n",
              "\n",
              "    .dataframe thead th {\n",
              "        text-align: right;\n",
              "    }\n",
              "</style>\n",
              "<table border=\"1\" class=\"dataframe\">\n",
              "  <thead>\n",
              "    <tr style=\"text-align: right;\">\n",
              "      <th></th>\n",
              "      <th>Unnamed: 0</th>\n",
              "      <th>matchId</th>\n",
              "      <th>blue_win</th>\n",
              "      <th>blueGold</th>\n",
              "      <th>blueMinionsKilled</th>\n",
              "      <th>blueJungleMinionsKilled</th>\n",
              "      <th>blueAvgLevel</th>\n",
              "      <th>redGold</th>\n",
              "      <th>redMinionsKilled</th>\n",
              "      <th>redJungleMinionsKilled</th>\n",
              "      <th>redAvgLevel</th>\n",
              "      <th>blueChampKills</th>\n",
              "      <th>blueHeraldKills</th>\n",
              "      <th>blueDragonKills</th>\n",
              "      <th>blueTowersDestroyed</th>\n",
              "      <th>redChampKills</th>\n",
              "      <th>redHeraldKills</th>\n",
              "      <th>redDragonKills</th>\n",
              "      <th>redTowersDestroyed</th>\n",
              "    </tr>\n",
              "  </thead>\n",
              "  <tbody>\n",
              "    <tr>\n",
              "      <th>0</th>\n",
              "      <td>0</td>\n",
              "      <td>3.493251e+09</td>\n",
              "      <td>0</td>\n",
              "      <td>24575.0</td>\n",
              "      <td>349.0</td>\n",
              "      <td>89.0</td>\n",
              "      <td>8.6</td>\n",
              "      <td>25856.0</td>\n",
              "      <td>346.0</td>\n",
              "      <td>80.0</td>\n",
              "      <td>9.2</td>\n",
              "      <td>6.0</td>\n",
              "      <td>1.0</td>\n",
              "      <td>0.0</td>\n",
              "      <td>1.0</td>\n",
              "      <td>12.0</td>\n",
              "      <td>2.0</td>\n",
              "      <td>0.0</td>\n",
              "      <td>1.0</td>\n",
              "    </tr>\n",
              "    <tr>\n",
              "      <th>1</th>\n",
              "      <td>1</td>\n",
              "      <td>3.464936e+09</td>\n",
              "      <td>0</td>\n",
              "      <td>27210.0</td>\n",
              "      <td>290.0</td>\n",
              "      <td>36.0</td>\n",
              "      <td>9.0</td>\n",
              "      <td>28765.0</td>\n",
              "      <td>294.0</td>\n",
              "      <td>92.0</td>\n",
              "      <td>9.4</td>\n",
              "      <td>20.0</td>\n",
              "      <td>0.0</td>\n",
              "      <td>0.0</td>\n",
              "      <td>0.0</td>\n",
              "      <td>19.0</td>\n",
              "      <td>2.0</td>\n",
              "      <td>0.0</td>\n",
              "      <td>0.0</td>\n",
              "    </tr>\n",
              "    <tr>\n",
              "      <th>2</th>\n",
              "      <td>2</td>\n",
              "      <td>3.428426e+09</td>\n",
              "      <td>1</td>\n",
              "      <td>32048.0</td>\n",
              "      <td>346.0</td>\n",
              "      <td>92.0</td>\n",
              "      <td>9.4</td>\n",
              "      <td>25305.0</td>\n",
              "      <td>293.0</td>\n",
              "      <td>84.0</td>\n",
              "      <td>9.4</td>\n",
              "      <td>17.0</td>\n",
              "      <td>3.0</td>\n",
              "      <td>0.0</td>\n",
              "      <td>0.0</td>\n",
              "      <td>11.0</td>\n",
              "      <td>0.0</td>\n",
              "      <td>0.0</td>\n",
              "      <td>4.0</td>\n",
              "    </tr>\n",
              "    <tr>\n",
              "      <th>3</th>\n",
              "      <td>3</td>\n",
              "      <td>3.428347e+09</td>\n",
              "      <td>0</td>\n",
              "      <td>20261.0</td>\n",
              "      <td>223.0</td>\n",
              "      <td>60.0</td>\n",
              "      <td>8.2</td>\n",
              "      <td>30429.0</td>\n",
              "      <td>356.0</td>\n",
              "      <td>107.0</td>\n",
              "      <td>9.4</td>\n",
              "      <td>7.0</td>\n",
              "      <td>0.0</td>\n",
              "      <td>0.0</td>\n",
              "      <td>3.0</td>\n",
              "      <td>16.0</td>\n",
              "      <td>3.0</td>\n",
              "      <td>0.0</td>\n",
              "      <td>0.0</td>\n",
              "    </tr>\n",
              "    <tr>\n",
              "      <th>4</th>\n",
              "      <td>4</td>\n",
              "      <td>3.428351e+09</td>\n",
              "      <td>1</td>\n",
              "      <td>30217.0</td>\n",
              "      <td>376.0</td>\n",
              "      <td>110.0</td>\n",
              "      <td>9.8</td>\n",
              "      <td>23889.0</td>\n",
              "      <td>334.0</td>\n",
              "      <td>60.0</td>\n",
              "      <td>8.8</td>\n",
              "      <td>16.0</td>\n",
              "      <td>3.0</td>\n",
              "      <td>0.0</td>\n",
              "      <td>0.0</td>\n",
              "      <td>8.0</td>\n",
              "      <td>0.0</td>\n",
              "      <td>0.0</td>\n",
              "      <td>2.0</td>\n",
              "    </tr>\n",
              "    <tr>\n",
              "      <th>5</th>\n",
              "      <td>5</td>\n",
              "      <td>3.494459e+09</td>\n",
              "      <td>1</td>\n",
              "      <td>25470.0</td>\n",
              "      <td>362.0</td>\n",
              "      <td>82.0</td>\n",
              "      <td>9.2</td>\n",
              "      <td>22856.0</td>\n",
              "      <td>319.0</td>\n",
              "      <td>86.0</td>\n",
              "      <td>8.8</td>\n",
              "      <td>9.0</td>\n",
              "      <td>1.0</td>\n",
              "      <td>0.0</td>\n",
              "      <td>0.0</td>\n",
              "      <td>7.0</td>\n",
              "      <td>1.0</td>\n",
              "      <td>0.0</td>\n",
              "      <td>0.0</td>\n",
              "    </tr>\n",
              "    <tr>\n",
              "      <th>6</th>\n",
              "      <td>6</td>\n",
              "      <td>3.463321e+09</td>\n",
              "      <td>1</td>\n",
              "      <td>25391.0</td>\n",
              "      <td>350.0</td>\n",
              "      <td>96.0</td>\n",
              "      <td>9.2</td>\n",
              "      <td>23236.0</td>\n",
              "      <td>345.0</td>\n",
              "      <td>80.0</td>\n",
              "      <td>8.6</td>\n",
              "      <td>8.0</td>\n",
              "      <td>2.0</td>\n",
              "      <td>0.0</td>\n",
              "      <td>0.0</td>\n",
              "      <td>5.0</td>\n",
              "      <td>1.0</td>\n",
              "      <td>0.0</td>\n",
              "      <td>1.0</td>\n",
              "    </tr>\n",
              "    <tr>\n",
              "      <th>7</th>\n",
              "      <td>7</td>\n",
              "      <td>3.463280e+09</td>\n",
              "      <td>0</td>\n",
              "      <td>28946.0</td>\n",
              "      <td>367.0</td>\n",
              "      <td>65.0</td>\n",
              "      <td>9.2</td>\n",
              "      <td>26528.0</td>\n",
              "      <td>311.0</td>\n",
              "      <td>63.0</td>\n",
              "      <td>8.8</td>\n",
              "      <td>15.0</td>\n",
              "      <td>2.0</td>\n",
              "      <td>0.0</td>\n",
              "      <td>1.0</td>\n",
              "      <td>14.0</td>\n",
              "      <td>1.0</td>\n",
              "      <td>0.0</td>\n",
              "      <td>1.0</td>\n",
              "    </tr>\n",
              "    <tr>\n",
              "      <th>8</th>\n",
              "      <td>8</td>\n",
              "      <td>3.462719e+09</td>\n",
              "      <td>1</td>\n",
              "      <td>26928.0</td>\n",
              "      <td>379.0</td>\n",
              "      <td>80.0</td>\n",
              "      <td>9.6</td>\n",
              "      <td>23065.0</td>\n",
              "      <td>362.0</td>\n",
              "      <td>95.0</td>\n",
              "      <td>9.2</td>\n",
              "      <td>11.0</td>\n",
              "      <td>1.0</td>\n",
              "      <td>0.0</td>\n",
              "      <td>0.0</td>\n",
              "      <td>5.0</td>\n",
              "      <td>2.0</td>\n",
              "      <td>0.0</td>\n",
              "      <td>1.0</td>\n",
              "    </tr>\n",
              "    <tr>\n",
              "      <th>9</th>\n",
              "      <td>9</td>\n",
              "      <td>3.462734e+09</td>\n",
              "      <td>1</td>\n",
              "      <td>26079.0</td>\n",
              "      <td>302.0</td>\n",
              "      <td>106.0</td>\n",
              "      <td>9.0</td>\n",
              "      <td>27275.0</td>\n",
              "      <td>347.0</td>\n",
              "      <td>91.0</td>\n",
              "      <td>9.4</td>\n",
              "      <td>9.0</td>\n",
              "      <td>1.0</td>\n",
              "      <td>0.0</td>\n",
              "      <td>1.0</td>\n",
              "      <td>10.0</td>\n",
              "      <td>2.0</td>\n",
              "      <td>0.0</td>\n",
              "      <td>1.0</td>\n",
              "    </tr>\n",
              "    <tr>\n",
              "      <th>10</th>\n",
              "      <td>10</td>\n",
              "      <td>3.494594e+09</td>\n",
              "      <td>0</td>\n",
              "      <td>23215.0</td>\n",
              "      <td>307.0</td>\n",
              "      <td>70.0</td>\n",
              "      <td>9.0</td>\n",
              "      <td>26823.0</td>\n",
              "      <td>390.0</td>\n",
              "      <td>89.0</td>\n",
              "      <td>9.0</td>\n",
              "      <td>9.0</td>\n",
              "      <td>2.0</td>\n",
              "      <td>0.0</td>\n",
              "      <td>1.0</td>\n",
              "      <td>9.0</td>\n",
              "      <td>0.0</td>\n",
              "      <td>0.0</td>\n",
              "      <td>0.0</td>\n",
              "    </tr>\n",
              "    <tr>\n",
              "      <th>11</th>\n",
              "      <td>11</td>\n",
              "      <td>3.464834e+09</td>\n",
              "      <td>1</td>\n",
              "      <td>27944.0</td>\n",
              "      <td>319.0</td>\n",
              "      <td>94.0</td>\n",
              "      <td>9.0</td>\n",
              "      <td>21329.0</td>\n",
              "      <td>311.0</td>\n",
              "      <td>84.0</td>\n",
              "      <td>8.8</td>\n",
              "      <td>13.0</td>\n",
              "      <td>3.0</td>\n",
              "      <td>0.0</td>\n",
              "      <td>0.0</td>\n",
              "      <td>4.0</td>\n",
              "      <td>0.0</td>\n",
              "      <td>0.0</td>\n",
              "      <td>1.0</td>\n",
              "    </tr>\n",
              "    <tr>\n",
              "      <th>12</th>\n",
              "      <td>12</td>\n",
              "      <td>3.431783e+09</td>\n",
              "      <td>1</td>\n",
              "      <td>24979.0</td>\n",
              "      <td>364.0</td>\n",
              "      <td>107.0</td>\n",
              "      <td>9.4</td>\n",
              "      <td>26341.0</td>\n",
              "      <td>344.0</td>\n",
              "      <td>92.0</td>\n",
              "      <td>9.6</td>\n",
              "      <td>6.0</td>\n",
              "      <td>2.0</td>\n",
              "      <td>0.0</td>\n",
              "      <td>1.0</td>\n",
              "      <td>10.0</td>\n",
              "      <td>1.0</td>\n",
              "      <td>0.0</td>\n",
              "      <td>1.0</td>\n",
              "    </tr>\n",
              "    <tr>\n",
              "      <th>13</th>\n",
              "      <td>13</td>\n",
              "      <td>3.399727e+09</td>\n",
              "      <td>0</td>\n",
              "      <td>23095.0</td>\n",
              "      <td>210.0</td>\n",
              "      <td>84.0</td>\n",
              "      <td>8.0</td>\n",
              "      <td>31472.0</td>\n",
              "      <td>344.0</td>\n",
              "      <td>115.0</td>\n",
              "      <td>9.2</td>\n",
              "      <td>10.0</td>\n",
              "      <td>0.0</td>\n",
              "      <td>0.0</td>\n",
              "      <td>4.0</td>\n",
              "      <td>15.0</td>\n",
              "      <td>3.0</td>\n",
              "      <td>0.0</td>\n",
              "      <td>0.0</td>\n",
              "    </tr>\n",
              "    <tr>\n",
              "      <th>14</th>\n",
              "      <td>14</td>\n",
              "      <td>3.399742e+09</td>\n",
              "      <td>1</td>\n",
              "      <td>27466.0</td>\n",
              "      <td>341.0</td>\n",
              "      <td>97.0</td>\n",
              "      <td>8.8</td>\n",
              "      <td>23844.0</td>\n",
              "      <td>332.0</td>\n",
              "      <td>92.0</td>\n",
              "      <td>8.8</td>\n",
              "      <td>12.0</td>\n",
              "      <td>2.0</td>\n",
              "      <td>0.0</td>\n",
              "      <td>1.0</td>\n",
              "      <td>7.0</td>\n",
              "      <td>0.0</td>\n",
              "      <td>0.0</td>\n",
              "      <td>2.0</td>\n",
              "    </tr>\n",
              "  </tbody>\n",
              "</table>\n",
              "</div>"
            ],
            "text/plain": [
              "    Unnamed: 0       matchId  blue_win  blueGold  blueMinionsKilled  \\\n",
              "0            0  3.493251e+09         0   24575.0              349.0   \n",
              "1            1  3.464936e+09         0   27210.0              290.0   \n",
              "2            2  3.428426e+09         1   32048.0              346.0   \n",
              "3            3  3.428347e+09         0   20261.0              223.0   \n",
              "4            4  3.428351e+09         1   30217.0              376.0   \n",
              "5            5  3.494459e+09         1   25470.0              362.0   \n",
              "6            6  3.463321e+09         1   25391.0              350.0   \n",
              "7            7  3.463280e+09         0   28946.0              367.0   \n",
              "8            8  3.462719e+09         1   26928.0              379.0   \n",
              "9            9  3.462734e+09         1   26079.0              302.0   \n",
              "10          10  3.494594e+09         0   23215.0              307.0   \n",
              "11          11  3.464834e+09         1   27944.0              319.0   \n",
              "12          12  3.431783e+09         1   24979.0              364.0   \n",
              "13          13  3.399727e+09         0   23095.0              210.0   \n",
              "14          14  3.399742e+09         1   27466.0              341.0   \n",
              "\n",
              "    blueJungleMinionsKilled  blueAvgLevel  redGold  redMinionsKilled  \\\n",
              "0                      89.0           8.6  25856.0             346.0   \n",
              "1                      36.0           9.0  28765.0             294.0   \n",
              "2                      92.0           9.4  25305.0             293.0   \n",
              "3                      60.0           8.2  30429.0             356.0   \n",
              "4                     110.0           9.8  23889.0             334.0   \n",
              "5                      82.0           9.2  22856.0             319.0   \n",
              "6                      96.0           9.2  23236.0             345.0   \n",
              "7                      65.0           9.2  26528.0             311.0   \n",
              "8                      80.0           9.6  23065.0             362.0   \n",
              "9                     106.0           9.0  27275.0             347.0   \n",
              "10                     70.0           9.0  26823.0             390.0   \n",
              "11                     94.0           9.0  21329.0             311.0   \n",
              "12                    107.0           9.4  26341.0             344.0   \n",
              "13                     84.0           8.0  31472.0             344.0   \n",
              "14                     97.0           8.8  23844.0             332.0   \n",
              "\n",
              "    redJungleMinionsKilled  redAvgLevel  blueChampKills  blueHeraldKills  \\\n",
              "0                     80.0          9.2             6.0              1.0   \n",
              "1                     92.0          9.4            20.0              0.0   \n",
              "2                     84.0          9.4            17.0              3.0   \n",
              "3                    107.0          9.4             7.0              0.0   \n",
              "4                     60.0          8.8            16.0              3.0   \n",
              "5                     86.0          8.8             9.0              1.0   \n",
              "6                     80.0          8.6             8.0              2.0   \n",
              "7                     63.0          8.8            15.0              2.0   \n",
              "8                     95.0          9.2            11.0              1.0   \n",
              "9                     91.0          9.4             9.0              1.0   \n",
              "10                    89.0          9.0             9.0              2.0   \n",
              "11                    84.0          8.8            13.0              3.0   \n",
              "12                    92.0          9.6             6.0              2.0   \n",
              "13                   115.0          9.2            10.0              0.0   \n",
              "14                    92.0          8.8            12.0              2.0   \n",
              "\n",
              "    blueDragonKills  blueTowersDestroyed  redChampKills  redHeraldKills  \\\n",
              "0               0.0                  1.0           12.0             2.0   \n",
              "1               0.0                  0.0           19.0             2.0   \n",
              "2               0.0                  0.0           11.0             0.0   \n",
              "3               0.0                  3.0           16.0             3.0   \n",
              "4               0.0                  0.0            8.0             0.0   \n",
              "5               0.0                  0.0            7.0             1.0   \n",
              "6               0.0                  0.0            5.0             1.0   \n",
              "7               0.0                  1.0           14.0             1.0   \n",
              "8               0.0                  0.0            5.0             2.0   \n",
              "9               0.0                  1.0           10.0             2.0   \n",
              "10              0.0                  1.0            9.0             0.0   \n",
              "11              0.0                  0.0            4.0             0.0   \n",
              "12              0.0                  1.0           10.0             1.0   \n",
              "13              0.0                  4.0           15.0             3.0   \n",
              "14              0.0                  1.0            7.0             0.0   \n",
              "\n",
              "    redDragonKills  redTowersDestroyed  \n",
              "0              0.0                 1.0  \n",
              "1              0.0                 0.0  \n",
              "2              0.0                 4.0  \n",
              "3              0.0                 0.0  \n",
              "4              0.0                 2.0  \n",
              "5              0.0                 0.0  \n",
              "6              0.0                 1.0  \n",
              "7              0.0                 1.0  \n",
              "8              0.0                 1.0  \n",
              "9              0.0                 1.0  \n",
              "10             0.0                 0.0  \n",
              "11             0.0                 1.0  \n",
              "12             0.0                 1.0  \n",
              "13             0.0                 0.0  \n",
              "14             0.0                 2.0  "
            ]
          },
          "metadata": {},
          "execution_count": 3
        }
      ]
    },
    {
      "cell_type": "code",
      "metadata": {
        "colab": {
          "base_uri": "https://localhost:8080/"
        },
        "id": "2rJKezNNbbaT",
        "outputId": "b9e4db17-b491-41ee-b15c-3850cce6986c"
      },
      "source": [
        "df.info()\n"
      ],
      "execution_count": null,
      "outputs": [
        {
          "output_type": "stream",
          "name": "stdout",
          "text": [
            "<class 'pandas.core.frame.DataFrame'>\n",
            "RangeIndex: 48651 entries, 0 to 48650\n",
            "Data columns (total 19 columns):\n",
            " #   Column                   Non-Null Count  Dtype  \n",
            "---  ------                   --------------  -----  \n",
            " 0   Unnamed: 0               48651 non-null  int64  \n",
            " 1   matchId                  48651 non-null  float64\n",
            " 2   blue_win                 48651 non-null  int64  \n",
            " 3   blueGold                 48651 non-null  float64\n",
            " 4   blueMinionsKilled        48651 non-null  float64\n",
            " 5   blueJungleMinionsKilled  48651 non-null  float64\n",
            " 6   blueAvgLevel             48651 non-null  float64\n",
            " 7   redGold                  48651 non-null  float64\n",
            " 8   redMinionsKilled         48651 non-null  float64\n",
            " 9   redJungleMinionsKilled   48651 non-null  float64\n",
            " 10  redAvgLevel              48651 non-null  float64\n",
            " 11  blueChampKills           48651 non-null  float64\n",
            " 12  blueHeraldKills          48651 non-null  float64\n",
            " 13  blueDragonKills          48651 non-null  float64\n",
            " 14  blueTowersDestroyed      48651 non-null  float64\n",
            " 15  redChampKills            48651 non-null  float64\n",
            " 16  redHeraldKills           48651 non-null  float64\n",
            " 17  redDragonKills           48651 non-null  float64\n",
            " 18  redTowersDestroyed       48651 non-null  float64\n",
            "dtypes: float64(17), int64(2)\n",
            "memory usage: 7.1 MB\n"
          ]
        }
      ]
    },
    {
      "cell_type": "markdown",
      "metadata": {
        "id": "SxyKtsAViMP7"
      },
      "source": [
        "Выводим набор данных по списку, исходя из информации, видно, что заполнены все ячейки, но некоторые из них нам не понадобятся, например 'matchId','Unnamed: 0', данные столбики ни на что не влияют.\n",
        "\n"
      ]
    },
    {
      "cell_type": "code",
      "metadata": {
        "colab": {
          "base_uri": "https://localhost:8080/",
          "height": 348
        },
        "id": "aVY3NlNueyEn",
        "outputId": "568c53bc-5aec-49d9-be2a-27c193699745"
      },
      "source": [
        "sns.countplot(df['blue_win'])"
      ],
      "execution_count": null,
      "outputs": [
        {
          "output_type": "stream",
          "name": "stderr",
          "text": [
            "/usr/local/lib/python3.7/dist-packages/seaborn/_decorators.py:43: FutureWarning: Pass the following variable as a keyword arg: x. From version 0.12, the only valid positional argument will be `data`, and passing other arguments without an explicit keyword will result in an error or misinterpretation.\n",
            "  FutureWarning\n"
          ]
        },
        {
          "output_type": "execute_result",
          "data": {
            "text/plain": [
              "<matplotlib.axes._subplots.AxesSubplot at 0x7effad7ab990>"
            ]
          },
          "metadata": {},
          "execution_count": 5
        },
        {
          "output_type": "display_data",
          "data": {
            "image/png": "[encoded data removed]",
            "text/plain": [
              "<Figure size 432x288 with 1 Axes>"
            ]
          },
          "metadata": {
            "needs_background": "light"
          }
        }
      ]
    },
    {
      "cell_type": "code",
      "metadata": {
        "colab": {
          "base_uri": "https://localhost:8080/"
        },
        "id": "4WIAGfDLf1PG",
        "outputId": "4711c15d-6de1-416c-fddb-961e061530fd"
      },
      "source": [
        "#убираем  столбики с ID матча,  а также с номером по порядку.\n",
        "df = df.drop(['matchId','Unnamed: 0'], axis='columns')\n",
        "df.info()"
      ],
      "execution_count": null,
      "outputs": [
        {
          "output_type": "stream",
          "name": "stdout",
          "text": [
            "<class 'pandas.core.frame.DataFrame'>\n",
            "RangeIndex: 48651 entries, 0 to 48650\n",
            "Data columns (total 17 columns):\n",
            " #   Column                   Non-Null Count  Dtype  \n",
            "---  ------                   --------------  -----  \n",
            " 0   blue_win                 48651 non-null  int64  \n",
            " 1   blueGold                 48651 non-null  float64\n",
            " 2   blueMinionsKilled        48651 non-null  float64\n",
            " 3   blueJungleMinionsKilled  48651 non-null  float64\n",
            " 4   blueAvgLevel             48651 non-null  float64\n",
            " 5   redGold                  48651 non-null  float64\n",
            " 6   redMinionsKilled         48651 non-null  float64\n",
            " 7   redJungleMinionsKilled   48651 non-null  float64\n",
            " 8   redAvgLevel              48651 non-null  float64\n",
            " 9   blueChampKills           48651 non-null  float64\n",
            " 10  blueHeraldKills          48651 non-null  float64\n",
            " 11  blueDragonKills          48651 non-null  float64\n",
            " 12  blueTowersDestroyed      48651 non-null  float64\n",
            " 13  redChampKills            48651 non-null  float64\n",
            " 14  redHeraldKills           48651 non-null  float64\n",
            " 15  redDragonKills           48651 non-null  float64\n",
            " 16  redTowersDestroyed       48651 non-null  float64\n",
            "dtypes: float64(16), int64(1)\n",
            "memory usage: 6.3 MB\n"
          ]
        }
      ]
    },
    {
      "cell_type": "markdown",
      "metadata": {
        "id": "ls2LIYd3jSfu"
      },
      "source": [
        "Строим корреляцию для наиболее наглядной картины того, что еще можно выбросить из выборки."
      ]
    },
    {
      "cell_type": "code",
      "metadata": {
        "colab": {
          "base_uri": "https://localhost:8080/",
          "height": 952
        },
        "id": "tGq02cVFgz0H",
        "outputId": "af81061d-adc5-4000-8e5e-fd0a52f24729"
      },
      "source": [
        "\n",
        "# Считаем корреляцию и берем от нее модуль\n",
        "corr = df.corr().abs()\n",
        "# Устанавливаем размер\n",
        "sns.set(rc={'figure.figsize':(12, 14)})\n",
        "#Визуализируем\n",
        "sns.heatmap(corr, \n",
        "            xticklabels=corr.columns.values,\n",
        "            yticklabels=corr.columns.values)"
      ],
      "execution_count": null,
      "outputs": [
        {
          "output_type": "execute_result",
          "data": {
            "text/plain": [
              "<matplotlib.axes._subplots.AxesSubplot at 0x7effad1d1710>"
            ]
          },
          "metadata": {},
          "execution_count": 8
        },
        {
          "output_type": "display_data",
          "data": {
            "image/png": "[encoded data removed]",
            "text/plain": [
              "<Figure size 864x1008 with 2 Axes>"
            ]
          },
          "metadata": {}
        }
      ]
    },
    {
      "cell_type": "markdown",
      "metadata": {
        "id": "uIiPKeARjWCy"
      },
      "source": [
        "Анализируем полученные данные и принимаем решение убрать ненужное."
      ]
    },
    {
      "cell_type": "code",
      "metadata": {
        "colab": {
          "base_uri": "https://localhost:8080/"
        },
        "id": "9VjY3Lasqhhu",
        "outputId": "1722170d-0e36-4215-e6b8-284ffdfa1d7b"
      },
      "source": [
        "#видим, что-что не так с redDragonKills и blueDragonKills, посмотрев таблицу понимаем, что в связи с механикой игры эти строчки остаются пустыми\n",
        "#Также убираем redAvgLevel и blueAvgLevel\n",
        "df = df.drop(['redDragonKills','blueDragonKills','redAvgLevel','blueAvgLevel'], axis='columns')\n",
        "df.info()"
      ],
      "execution_count": null,
      "outputs": [
        {
          "output_type": "stream",
          "name": "stdout",
          "text": [
            "<class 'pandas.core.frame.DataFrame'>\n",
            "RangeIndex: 48651 entries, 0 to 48650\n",
            "Data columns (total 13 columns):\n",
            " #   Column                   Non-Null Count  Dtype  \n",
            "---  ------                   --------------  -----  \n",
            " 0   blue_win                 48651 non-null  int64  \n",
            " 1   blueGold                 48651 non-null  float64\n",
            " 2   blueMinionsKilled        48651 non-null  float64\n",
            " 3   blueJungleMinionsKilled  48651 non-null  float64\n",
            " 4   redGold                  48651 non-null  float64\n",
            " 5   redMinionsKilled         48651 non-null  float64\n",
            " 6   redJungleMinionsKilled   48651 non-null  float64\n",
            " 7   blueChampKills           48651 non-null  float64\n",
            " 8   blueHeraldKills          48651 non-null  float64\n",
            " 9   blueTowersDestroyed      48651 non-null  float64\n",
            " 10  redChampKills            48651 non-null  float64\n",
            " 11  redHeraldKills           48651 non-null  float64\n",
            " 12  redTowersDestroyed       48651 non-null  float64\n",
            "dtypes: float64(12), int64(1)\n",
            "memory usage: 4.8 MB\n"
          ]
        }
      ]
    },
    {
      "cell_type": "code",
      "metadata": {
        "colab": {
          "base_uri": "https://localhost:8080/"
        },
        "id": "VaxdgxOPuBIz",
        "outputId": "7a418891-7ec0-42b0-c788-bb936085c78a"
      },
      "source": [
        "#Проверим еще раз формат наших данных\n",
        "df.dtypes\n",
        "#все хорошо, можем продолжать"
      ],
      "execution_count": null,
      "outputs": [
        {
          "output_type": "execute_result",
          "data": {
            "text/plain": [
              "blue_win                     int64\n",
              "blueGold                   float64\n",
              "blueMinionsKilled          float64\n",
              "blueJungleMinionsKilled    float64\n",
              "redGold                    float64\n",
              "redMinionsKilled           float64\n",
              "redJungleMinionsKilled     float64\n",
              "blueChampKills             float64\n",
              "blueHeraldKills            float64\n",
              "blueTowersDestroyed        float64\n",
              "redChampKills              float64\n",
              "redHeraldKills             float64\n",
              "redTowersDestroyed         float64\n",
              "dtype: object"
            ]
          },
          "metadata": {},
          "execution_count": 10
        }
      ]
    },
    {
      "cell_type": "code",
      "metadata": {
        "colab": {
          "base_uri": "https://localhost:8080/"
        },
        "id": "8uVdn6NEuW48",
        "outputId": "7b4ec6a6-7404-4a9b-8d3f-3ef4de8fa073"
      },
      "source": [
        "#Проверим, есть ли у нас что-либо незаполненное \n",
        "df.isna().any()"
      ],
      "execution_count": null,
      "outputs": [
        {
          "output_type": "execute_result",
          "data": {
            "text/plain": [
              "blue_win                   False\n",
              "blueGold                   False\n",
              "blueMinionsKilled          False\n",
              "blueJungleMinionsKilled    False\n",
              "redGold                    False\n",
              "redMinionsKilled           False\n",
              "redJungleMinionsKilled     False\n",
              "blueChampKills             False\n",
              "blueHeraldKills            False\n",
              "blueTowersDestroyed        False\n",
              "redChampKills              False\n",
              "redHeraldKills             False\n",
              "redTowersDestroyed         False\n",
              "dtype: bool"
            ]
          },
          "metadata": {},
          "execution_count": 11
        }
      ]
    },
    {
      "cell_type": "markdown",
      "metadata": {
        "id": "zpfLZ7EakPzA"
      },
      "source": [
        "Выделим в нашей выборке целевую переменную, а также разделим ее на тренировочную и тестовую.\n",
        "Проводим классификацию с помощью метода ближайших соседей."
      ]
    },
    {
      "cell_type": "code",
      "metadata": {
        "colab": {
          "base_uri": "https://localhost:8080/"
        },
        "id": "JQ4BMe7IvJna",
        "outputId": "6f8adc1c-2d86-4a97-86a8-b1feff52f307"
      },
      "source": [
        "X = df[df.columns[:-1]]\n",
        "y = df['blue_win']\n",
        "\n",
        "X_train, X_test, y_train, y_test = train_test_split(X, y)\n",
        "from sklearn.neighbors import KNeighborsClassifier\n",
        "\n",
        "# создадим наш классификатор. Гиперпараметр у этого алгоритма один - количество соседей.\n",
        "clf = KNeighborsClassifier(n_neighbors=40)\n",
        "# обучим классификатор на тренировочной выборке\n",
        "clf.fit(X_train, y_train)\n",
        "# подсчитаем долю верных ответов алгоритма на тестовой выборке.\n",
        "clf.score(X_test, y_test)"
      ],
      "execution_count": null,
      "outputs": [
        {
          "output_type": "execute_result",
          "data": {
            "text/plain": [
              "0.7684781715037409"
            ]
          },
          "metadata": {},
          "execution_count": 17
        }
      ]
    },
    {
      "cell_type": "code",
      "metadata": {
        "colab": {
          "base_uri": "https://localhost:8080/",
          "height": 827
        },
        "id": "LH_epLGHxkcF",
        "outputId": "93493368-55fe-42a5-815b-ea8500e2e3f5"
      },
      "source": [
        "# Создадим пустой словарь. Будем добавлять в него значения наших \"скоров\". Ключами будет значение гиперпараметра,\n",
        "# значениями - качество работы. Рассмотрим отдельно качество на тренировочной выборке и на тестовой.\n",
        "train_scores = {}\n",
        "test_scores = {}\n",
        "\n",
        "# для n в диапазоне от 1 до 40 включительно\n",
        "for n in range(1, 41):\n",
        "    clf = KNeighborsClassifier(n_neighbors=n)\n",
        "    clf.fit(X_train, y_train)\n",
        "    # значение качества на текущей итерации:\n",
        "    current_train_score = clf.score(X_train, y_train)\n",
        "    current_test_score = clf.score(X_test, y_test)\n",
        "    # запишем его в наши словари\n",
        "    train_scores[n] = current_train_score\n",
        "    test_scores[n] = current_test_score\n",
        "\n",
        "# нарисуем графики\n",
        "\n",
        "plt.plot((np.array(list(train_scores.keys())).astype(float)), (np.array(list(train_scores.values())).astype(float)), label='Обучающая выборка')\n",
        "plt.plot((np.array(list(test_scores.keys())).astype(float)), (np.array(list(test_scores.values())).astype(float)), label='Тестовая выборка')\n",
        "plt.xlabel('Количество соседей')\n",
        "plt.ylabel('Доля верных ответов')\n",
        "plt.legend()\n",
        "plt.show()"
      ],
      "execution_count": null,
      "outputs": [
        {
          "output_type": "display_data",
          "data": {
            "image/png": "[encoded data removed]",
            "text/plain": [
              "<Figure size 864x1008 with 1 Axes>"
            ]
          },
          "metadata": {}
        }
      ]
    },
    {
      "cell_type": "markdown",
      "metadata": {
        "id": "Zgv1hMWUnjY3"
      },
      "source": [
        "Наш алгоритм будет работать правильно при максимальном колличестве правильных ответов тестовой выборке, в нашем случае такое достигается при k=40 соседей."
      ]
    }
  ]
}