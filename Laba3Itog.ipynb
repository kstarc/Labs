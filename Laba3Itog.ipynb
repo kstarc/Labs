{
  "nbformat": 4,
  "nbformat_minor": 0,
  "metadata": {
    "colab": {
      "name": "nasha_laba3.ipynb",
      "provenance": [],
      "collapsed_sections": []
    },
    "kernelspec": {
      "name": "python3",
      "display_name": "Python 3"
    },
    "language_info": {
      "name": "python"
    }
  },
  "cells": [
    {
      "cell_type": "markdown",
      "source": [
        "# Подготовили студенты Пинкевич А., Яковлева С., Старченко К.\n"
      ],
      "metadata": {
        "id": "iJYxuGYBEcjr"
      }
    },
    {
      "cell_type": "markdown",
      "source": [
        "Логистическая регрессия — это разновидность множественной регрессии, общее назначение которой состоит в анализе связи между несколькими независимыми переменными (называемыми также регрессорами или предикторами) и зависимой переменной. Бинарная логистическая регрессия применяется в случае, когда зависимая переменная является бинарной (т.е. может принимать только два значения). С помощью логистической регрессии можно оценивать вероятность того, что событие наступит для конкретного испытуемого (больной/здоровый, возврат кредита/дефолт и т.д.)."
      ],
      "metadata": {
        "id": "70LWa00chPGG"
      }
    },
    {
      "cell_type": "code",
      "source": [
        "import pandas as pd\n",
        "import numpy as np\n",
        "import matplotlib.pyplot as plt\n",
        "import seaborn as sns\n",
        "from sklearn import preprocessing\n",
        "from sklearn.model_selection import train_test_split\n",
        "%matplotlib inline"
      ],
      "metadata": {
        "id": "d2wptvFeE0ir"
      },
      "execution_count": null,
      "outputs": []
    },
    {
      "cell_type": "code",
      "source": [
        "#Сброс ограничений на количество выводимых рядов\n",
        "pd.set_option('display.max_rows', None)\n",
        " \n",
        "#Сброс ограничений на число столбцов\n",
        "pd.set_option('display.max_columns', None)"
      ],
      "metadata": {
        "id": "LDbBNFurJgdO"
      },
      "execution_count": null,
      "outputs": []
    },
    {
      "cell_type": "code",
      "source": [
        "df = pd.read_csv('/content/MatchTimelinesFirst15.csv')\n",
        "df.head(15) #наши данные"
      ],
      "metadata": {
        "colab": {
          "base_uri": "https://localhost:8080/",
          "height": 595
        },
        "id": "Cj4_iazsJjEQ",
        "outputId": "8a43703c-c6d0-4970-a7d4-3de72212044c"
      },
      "execution_count": null,
      "outputs": [
        {
          "output_type": "execute_result",
          "data": {
            "text/html": [
              "\n",
              "  <div id=\"df-f44183a2-33a5-463e-89db-05506afcde29\">\n",
              "    <div class=\"colab-df-container\">\n",
              "      <div>\n",
              "<style scoped>\n",
              "    .dataframe tbody tr th:only-of-type {\n",
              "        vertical-align: middle;\n",
              "    }\n",
              "\n",
              "    .dataframe tbody tr th {\n",
              "        vertical-align: top;\n",
              "    }\n",
              "\n",
              "    .dataframe thead th {\n",
              "        text-align: right;\n",
              "    }\n",
              "</style>\n",
              "<table border=\"1\" class=\"dataframe\">\n",
              "  <thead>\n",
              "    <tr style=\"text-align: right;\">\n",
              "      <th></th>\n",
              "      <th>Unnamed: 0</th>\n",
              "      <th>matchId</th>\n",
              "      <th>blue_win</th>\n",
              "      <th>blueGold</th>\n",
              "      <th>blueMinionsKilled</th>\n",
              "      <th>blueJungleMinionsKilled</th>\n",
              "      <th>blueAvgLevel</th>\n",
              "      <th>redGold</th>\n",
              "      <th>redMinionsKilled</th>\n",
              "      <th>redJungleMinionsKilled</th>\n",
              "      <th>redAvgLevel</th>\n",
              "      <th>blueChampKills</th>\n",
              "      <th>blueHeraldKills</th>\n",
              "      <th>blueDragonKills</th>\n",
              "      <th>blueTowersDestroyed</th>\n",
              "      <th>redChampKills</th>\n",
              "      <th>redHeraldKills</th>\n",
              "      <th>redDragonKills</th>\n",
              "      <th>redTowersDestroyed</th>\n",
              "    </tr>\n",
              "  </thead>\n",
              "  <tbody>\n",
              "    <tr>\n",
              "      <th>0</th>\n",
              "      <td>0</td>\n",
              "      <td>3.493251e+09</td>\n",
              "      <td>0</td>\n",
              "      <td>24575.0</td>\n",
              "      <td>349.0</td>\n",
              "      <td>89.0</td>\n",
              "      <td>8.6</td>\n",
              "      <td>25856.0</td>\n",
              "      <td>346.0</td>\n",
              "      <td>80.0</td>\n",
              "      <td>9.2</td>\n",
              "      <td>6.0</td>\n",
              "      <td>1.0</td>\n",
              "      <td>0.0</td>\n",
              "      <td>1.0</td>\n",
              "      <td>12.0</td>\n",
              "      <td>2.0</td>\n",
              "      <td>0.0</td>\n",
              "      <td>1.0</td>\n",
              "    </tr>\n",
              "    <tr>\n",
              "      <th>1</th>\n",
              "      <td>1</td>\n",
              "      <td>3.464936e+09</td>\n",
              "      <td>0</td>\n",
              "      <td>27210.0</td>\n",
              "      <td>290.0</td>\n",
              "      <td>36.0</td>\n",
              "      <td>9.0</td>\n",
              "      <td>28765.0</td>\n",
              "      <td>294.0</td>\n",
              "      <td>92.0</td>\n",
              "      <td>9.4</td>\n",
              "      <td>20.0</td>\n",
              "      <td>0.0</td>\n",
              "      <td>0.0</td>\n",
              "      <td>0.0</td>\n",
              "      <td>19.0</td>\n",
              "      <td>2.0</td>\n",
              "      <td>0.0</td>\n",
              "      <td>0.0</td>\n",
              "    </tr>\n",
              "    <tr>\n",
              "      <th>2</th>\n",
              "      <td>2</td>\n",
              "      <td>3.428426e+09</td>\n",
              "      <td>1</td>\n",
              "      <td>32048.0</td>\n",
              "      <td>346.0</td>\n",
              "      <td>92.0</td>\n",
              "      <td>9.4</td>\n",
              "      <td>25305.0</td>\n",
              "      <td>293.0</td>\n",
              "      <td>84.0</td>\n",
              "      <td>9.4</td>\n",
              "      <td>17.0</td>\n",
              "      <td>3.0</td>\n",
              "      <td>0.0</td>\n",
              "      <td>0.0</td>\n",
              "      <td>11.0</td>\n",
              "      <td>0.0</td>\n",
              "      <td>0.0</td>\n",
              "      <td>4.0</td>\n",
              "    </tr>\n",
              "    <tr>\n",
              "      <th>3</th>\n",
              "      <td>3</td>\n",
              "      <td>3.428347e+09</td>\n",
              "      <td>0</td>\n",
              "      <td>20261.0</td>\n",
              "      <td>223.0</td>\n",
              "      <td>60.0</td>\n",
              "      <td>8.2</td>\n",
              "      <td>30429.0</td>\n",
              "      <td>356.0</td>\n",
              "      <td>107.0</td>\n",
              "      <td>9.4</td>\n",
              "      <td>7.0</td>\n",
              "      <td>0.0</td>\n",
              "      <td>0.0</td>\n",
              "      <td>3.0</td>\n",
              "      <td>16.0</td>\n",
              "      <td>3.0</td>\n",
              "      <td>0.0</td>\n",
              "      <td>0.0</td>\n",
              "    </tr>\n",
              "    <tr>\n",
              "      <th>4</th>\n",
              "      <td>4</td>\n",
              "      <td>3.428351e+09</td>\n",
              "      <td>1</td>\n",
              "      <td>30217.0</td>\n",
              "      <td>376.0</td>\n",
              "      <td>110.0</td>\n",
              "      <td>9.8</td>\n",
              "      <td>23889.0</td>\n",
              "      <td>334.0</td>\n",
              "      <td>60.0</td>\n",
              "      <td>8.8</td>\n",
              "      <td>16.0</td>\n",
              "      <td>3.0</td>\n",
              "      <td>0.0</td>\n",
              "      <td>0.0</td>\n",
              "      <td>8.0</td>\n",
              "      <td>0.0</td>\n",
              "      <td>0.0</td>\n",
              "      <td>2.0</td>\n",
              "    </tr>\n",
              "    <tr>\n",
              "      <th>5</th>\n",
              "      <td>5</td>\n",
              "      <td>3.494459e+09</td>\n",
              "      <td>1</td>\n",
              "      <td>25470.0</td>\n",
              "      <td>362.0</td>\n",
              "      <td>82.0</td>\n",
              "      <td>9.2</td>\n",
              "      <td>22856.0</td>\n",
              "      <td>319.0</td>\n",
              "      <td>86.0</td>\n",
              "      <td>8.8</td>\n",
              "      <td>9.0</td>\n",
              "      <td>1.0</td>\n",
              "      <td>0.0</td>\n",
              "      <td>0.0</td>\n",
              "      <td>7.0</td>\n",
              "      <td>1.0</td>\n",
              "      <td>0.0</td>\n",
              "      <td>0.0</td>\n",
              "    </tr>\n",
              "    <tr>\n",
              "      <th>6</th>\n",
              "      <td>6</td>\n",
              "      <td>3.463321e+09</td>\n",
              "      <td>1</td>\n",
              "      <td>25391.0</td>\n",
              "      <td>350.0</td>\n",
              "      <td>96.0</td>\n",
              "      <td>9.2</td>\n",
              "      <td>23236.0</td>\n",
              "      <td>345.0</td>\n",
              "      <td>80.0</td>\n",
              "      <td>8.6</td>\n",
              "      <td>8.0</td>\n",
              "      <td>2.0</td>\n",
              "      <td>0.0</td>\n",
              "      <td>0.0</td>\n",
              "      <td>5.0</td>\n",
              "      <td>1.0</td>\n",
              "      <td>0.0</td>\n",
              "      <td>1.0</td>\n",
              "    </tr>\n",
              "    <tr>\n",
              "      <th>7</th>\n",
              "      <td>7</td>\n",
              "      <td>3.463280e+09</td>\n",
              "      <td>0</td>\n",
              "      <td>28946.0</td>\n",
              "      <td>367.0</td>\n",
              "      <td>65.0</td>\n",
              "      <td>9.2</td>\n",
              "      <td>26528.0</td>\n",
              "      <td>311.0</td>\n",
              "      <td>63.0</td>\n",
              "      <td>8.8</td>\n",
              "      <td>15.0</td>\n",
              "      <td>2.0</td>\n",
              "      <td>0.0</td>\n",
              "      <td>1.0</td>\n",
              "      <td>14.0</td>\n",
              "      <td>1.0</td>\n",
              "      <td>0.0</td>\n",
              "      <td>1.0</td>\n",
              "    </tr>\n",
              "    <tr>\n",
              "      <th>8</th>\n",
              "      <td>8</td>\n",
              "      <td>3.462719e+09</td>\n",
              "      <td>1</td>\n",
              "      <td>26928.0</td>\n",
              "      <td>379.0</td>\n",
              "      <td>80.0</td>\n",
              "      <td>9.6</td>\n",
              "      <td>23065.0</td>\n",
              "      <td>362.0</td>\n",
              "      <td>95.0</td>\n",
              "      <td>9.2</td>\n",
              "      <td>11.0</td>\n",
              "      <td>1.0</td>\n",
              "      <td>0.0</td>\n",
              "      <td>0.0</td>\n",
              "      <td>5.0</td>\n",
              "      <td>2.0</td>\n",
              "      <td>0.0</td>\n",
              "      <td>1.0</td>\n",
              "    </tr>\n",
              "    <tr>\n",
              "      <th>9</th>\n",
              "      <td>9</td>\n",
              "      <td>3.462734e+09</td>\n",
              "      <td>1</td>\n",
              "      <td>26079.0</td>\n",
              "      <td>302.0</td>\n",
              "      <td>106.0</td>\n",
              "      <td>9.0</td>\n",
              "      <td>27275.0</td>\n",
              "      <td>347.0</td>\n",
              "      <td>91.0</td>\n",
              "      <td>9.4</td>\n",
              "      <td>9.0</td>\n",
              "      <td>1.0</td>\n",
              "      <td>0.0</td>\n",
              "      <td>1.0</td>\n",
              "      <td>10.0</td>\n",
              "      <td>2.0</td>\n",
              "      <td>0.0</td>\n",
              "      <td>1.0</td>\n",
              "    </tr>\n",
              "    <tr>\n",
              "      <th>10</th>\n",
              "      <td>10</td>\n",
              "      <td>3.494594e+09</td>\n",
              "      <td>0</td>\n",
              "      <td>23215.0</td>\n",
              "      <td>307.0</td>\n",
              "      <td>70.0</td>\n",
              "      <td>9.0</td>\n",
              "      <td>26823.0</td>\n",
              "      <td>390.0</td>\n",
              "      <td>89.0</td>\n",
              "      <td>9.0</td>\n",
              "      <td>9.0</td>\n",
              "      <td>2.0</td>\n",
              "      <td>0.0</td>\n",
              "      <td>1.0</td>\n",
              "      <td>9.0</td>\n",
              "      <td>0.0</td>\n",
              "      <td>0.0</td>\n",
              "      <td>0.0</td>\n",
              "    </tr>\n",
              "    <tr>\n",
              "      <th>11</th>\n",
              "      <td>11</td>\n",
              "      <td>3.464834e+09</td>\n",
              "      <td>1</td>\n",
              "      <td>27944.0</td>\n",
              "      <td>319.0</td>\n",
              "      <td>94.0</td>\n",
              "      <td>9.0</td>\n",
              "      <td>21329.0</td>\n",
              "      <td>311.0</td>\n",
              "      <td>84.0</td>\n",
              "      <td>8.8</td>\n",
              "      <td>13.0</td>\n",
              "      <td>3.0</td>\n",
              "      <td>0.0</td>\n",
              "      <td>0.0</td>\n",
              "      <td>4.0</td>\n",
              "      <td>0.0</td>\n",
              "      <td>0.0</td>\n",
              "      <td>1.0</td>\n",
              "    </tr>\n",
              "    <tr>\n",
              "      <th>12</th>\n",
              "      <td>12</td>\n",
              "      <td>3.431783e+09</td>\n",
              "      <td>1</td>\n",
              "      <td>24979.0</td>\n",
              "      <td>364.0</td>\n",
              "      <td>107.0</td>\n",
              "      <td>9.4</td>\n",
              "      <td>26341.0</td>\n",
              "      <td>344.0</td>\n",
              "      <td>92.0</td>\n",
              "      <td>9.6</td>\n",
              "      <td>6.0</td>\n",
              "      <td>2.0</td>\n",
              "      <td>0.0</td>\n",
              "      <td>1.0</td>\n",
              "      <td>10.0</td>\n",
              "      <td>1.0</td>\n",
              "      <td>0.0</td>\n",
              "      <td>1.0</td>\n",
              "    </tr>\n",
              "    <tr>\n",
              "      <th>13</th>\n",
              "      <td>13</td>\n",
              "      <td>3.399727e+09</td>\n",
              "      <td>0</td>\n",
              "      <td>23095.0</td>\n",
              "      <td>210.0</td>\n",
              "      <td>84.0</td>\n",
              "      <td>8.0</td>\n",
              "      <td>31472.0</td>\n",
              "      <td>344.0</td>\n",
              "      <td>115.0</td>\n",
              "      <td>9.2</td>\n",
              "      <td>10.0</td>\n",
              "      <td>0.0</td>\n",
              "      <td>0.0</td>\n",
              "      <td>4.0</td>\n",
              "      <td>15.0</td>\n",
              "      <td>3.0</td>\n",
              "      <td>0.0</td>\n",
              "      <td>0.0</td>\n",
              "    </tr>\n",
              "    <tr>\n",
              "      <th>14</th>\n",
              "      <td>14</td>\n",
              "      <td>3.399742e+09</td>\n",
              "      <td>1</td>\n",
              "      <td>27466.0</td>\n",
              "      <td>341.0</td>\n",
              "      <td>97.0</td>\n",
              "      <td>8.8</td>\n",
              "      <td>23844.0</td>\n",
              "      <td>332.0</td>\n",
              "      <td>92.0</td>\n",
              "      <td>8.8</td>\n",
              "      <td>12.0</td>\n",
              "      <td>2.0</td>\n",
              "      <td>0.0</td>\n",
              "      <td>1.0</td>\n",
              "      <td>7.0</td>\n",
              "      <td>0.0</td>\n",
              "      <td>0.0</td>\n",
              "      <td>2.0</td>\n",
              "    </tr>\n",
              "  </tbody>\n",
              "</table>\n",
              "</div>\n",
              "      <button class=\"colab-df-convert\" onclick=\"convertToInteractive('df-f44183a2-33a5-463e-89db-05506afcde29')\"\n",
              "              title=\"Convert this dataframe to an interactive table.\"\n",
              "              style=\"display:none;\">\n",
              "        \n",
              "  <svg xmlns=\"http://www.w3.org/2000/svg\" height=\"24px\"viewBox=\"0 0 24 24\"\n",
              "       width=\"24px\">\n",
              "    <path d=\"M0 0h24v24H0V0z\" fill=\"none\"/>\n",
              "    <path d=\"M18.56 5.44l.94 2.06.94-2.06 2.06-.94-2.06-.94-.94-2.06-.94 2.06-2.06.94zm-11 1L8.5 8.5l.94-2.06 2.06-.94-2.06-.94L8.5 2.5l-.94 2.06-2.06.94zm10 10l.94 2.06.94-2.06 2.06-.94-2.06-.94-.94-2.06-.94 2.06-2.06.94z\"/><path d=\"M17.41 7.96l-1.37-1.37c-.4-.4-.92-.59-1.43-.59-.52 0-1.04.2-1.43.59L10.3 9.45l-7.72 7.72c-.78.78-.78 2.05 0 2.83L4 21.41c.39.39.9.59 1.41.59.51 0 1.02-.2 1.41-.59l7.78-7.78 2.81-2.81c.8-.78.8-2.07 0-2.86zM5.41 20L4 18.59l7.72-7.72 1.47 1.35L5.41 20z\"/>\n",
              "  </svg>\n",
              "      </button>\n",
              "      \n",
              "  <style>\n",
              "    .colab-df-container {\n",
              "      display:flex;\n",
              "      flex-wrap:wrap;\n",
              "      gap: 12px;\n",
              "    }\n",
              "\n",
              "    .colab-df-convert {\n",
              "      background-color: #E8F0FE;\n",
              "      border: none;\n",
              "      border-radius: 50%;\n",
              "      cursor: pointer;\n",
              "      display: none;\n",
              "      fill: #1967D2;\n",
              "      height: 32px;\n",
              "      padding: 0 0 0 0;\n",
              "      width: 32px;\n",
              "    }\n",
              "\n",
              "    .colab-df-convert:hover {\n",
              "      background-color: #E2EBFA;\n",
              "      box-shadow: 0px 1px 2px rgba(60, 64, 67, 0.3), 0px 1px 3px 1px rgba(60, 64, 67, 0.15);\n",
              "      fill: #174EA6;\n",
              "    }\n",
              "\n",
              "    [theme=dark] .colab-df-convert {\n",
              "      background-color: #3B4455;\n",
              "      fill: #D2E3FC;\n",
              "    }\n",
              "\n",
              "    [theme=dark] .colab-df-convert:hover {\n",
              "      background-color: #434B5C;\n",
              "      box-shadow: 0px 1px 3px 1px rgba(0, 0, 0, 0.15);\n",
              "      filter: drop-shadow(0px 1px 2px rgba(0, 0, 0, 0.3));\n",
              "      fill: #FFFFFF;\n",
              "    }\n",
              "  </style>\n",
              "\n",
              "      <script>\n",
              "        const buttonEl =\n",
              "          document.querySelector('#df-f44183a2-33a5-463e-89db-05506afcde29 button.colab-df-convert');\n",
              "        buttonEl.style.display =\n",
              "          google.colab.kernel.accessAllowed ? 'block' : 'none';\n",
              "\n",
              "        async function convertToInteractive(key) {\n",
              "          const element = document.querySelector('#df-f44183a2-33a5-463e-89db-05506afcde29');\n",
              "          const dataTable =\n",
              "            await google.colab.kernel.invokeFunction('convertToInteractive',\n",
              "                                                     [key], {});\n",
              "          if (!dataTable) return;\n",
              "\n",
              "          const docLinkHtml = 'Like what you see? Visit the ' +\n",
              "            '<a target=\"_blank\" href=https://colab.research.google.com/notebooks/data_table.ipynb>data table notebook</a>'\n",
              "            + ' to learn more about interactive tables.';\n",
              "          element.innerHTML = '';\n",
              "          dataTable['output_type'] = 'display_data';\n",
              "          await google.colab.output.renderOutput(dataTable, element);\n",
              "          const docLink = document.createElement('div');\n",
              "          docLink.innerHTML = docLinkHtml;\n",
              "          element.appendChild(docLink);\n",
              "        }\n",
              "      </script>\n",
              "    </div>\n",
              "  </div>\n",
              "  "
            ],
            "text/plain": [
              "    Unnamed: 0       matchId  blue_win  blueGold  blueMinionsKilled  \\\n",
              "0            0  3.493251e+09         0   24575.0              349.0   \n",
              "1            1  3.464936e+09         0   27210.0              290.0   \n",
              "2            2  3.428426e+09         1   32048.0              346.0   \n",
              "3            3  3.428347e+09         0   20261.0              223.0   \n",
              "4            4  3.428351e+09         1   30217.0              376.0   \n",
              "5            5  3.494459e+09         1   25470.0              362.0   \n",
              "6            6  3.463321e+09         1   25391.0              350.0   \n",
              "7            7  3.463280e+09         0   28946.0              367.0   \n",
              "8            8  3.462719e+09         1   26928.0              379.0   \n",
              "9            9  3.462734e+09         1   26079.0              302.0   \n",
              "10          10  3.494594e+09         0   23215.0              307.0   \n",
              "11          11  3.464834e+09         1   27944.0              319.0   \n",
              "12          12  3.431783e+09         1   24979.0              364.0   \n",
              "13          13  3.399727e+09         0   23095.0              210.0   \n",
              "14          14  3.399742e+09         1   27466.0              341.0   \n",
              "\n",
              "    blueJungleMinionsKilled  blueAvgLevel  redGold  redMinionsKilled  \\\n",
              "0                      89.0           8.6  25856.0             346.0   \n",
              "1                      36.0           9.0  28765.0             294.0   \n",
              "2                      92.0           9.4  25305.0             293.0   \n",
              "3                      60.0           8.2  30429.0             356.0   \n",
              "4                     110.0           9.8  23889.0             334.0   \n",
              "5                      82.0           9.2  22856.0             319.0   \n",
              "6                      96.0           9.2  23236.0             345.0   \n",
              "7                      65.0           9.2  26528.0             311.0   \n",
              "8                      80.0           9.6  23065.0             362.0   \n",
              "9                     106.0           9.0  27275.0             347.0   \n",
              "10                     70.0           9.0  26823.0             390.0   \n",
              "11                     94.0           9.0  21329.0             311.0   \n",
              "12                    107.0           9.4  26341.0             344.0   \n",
              "13                     84.0           8.0  31472.0             344.0   \n",
              "14                     97.0           8.8  23844.0             332.0   \n",
              "\n",
              "    redJungleMinionsKilled  redAvgLevel  blueChampKills  blueHeraldKills  \\\n",
              "0                     80.0          9.2             6.0              1.0   \n",
              "1                     92.0          9.4            20.0              0.0   \n",
              "2                     84.0          9.4            17.0              3.0   \n",
              "3                    107.0          9.4             7.0              0.0   \n",
              "4                     60.0          8.8            16.0              3.0   \n",
              "5                     86.0          8.8             9.0              1.0   \n",
              "6                     80.0          8.6             8.0              2.0   \n",
              "7                     63.0          8.8            15.0              2.0   \n",
              "8                     95.0          9.2            11.0              1.0   \n",
              "9                     91.0          9.4             9.0              1.0   \n",
              "10                    89.0          9.0             9.0              2.0   \n",
              "11                    84.0          8.8            13.0              3.0   \n",
              "12                    92.0          9.6             6.0              2.0   \n",
              "13                   115.0          9.2            10.0              0.0   \n",
              "14                    92.0          8.8            12.0              2.0   \n",
              "\n",
              "    blueDragonKills  blueTowersDestroyed  redChampKills  redHeraldKills  \\\n",
              "0               0.0                  1.0           12.0             2.0   \n",
              "1               0.0                  0.0           19.0             2.0   \n",
              "2               0.0                  0.0           11.0             0.0   \n",
              "3               0.0                  3.0           16.0             3.0   \n",
              "4               0.0                  0.0            8.0             0.0   \n",
              "5               0.0                  0.0            7.0             1.0   \n",
              "6               0.0                  0.0            5.0             1.0   \n",
              "7               0.0                  1.0           14.0             1.0   \n",
              "8               0.0                  0.0            5.0             2.0   \n",
              "9               0.0                  1.0           10.0             2.0   \n",
              "10              0.0                  1.0            9.0             0.0   \n",
              "11              0.0                  0.0            4.0             0.0   \n",
              "12              0.0                  1.0           10.0             1.0   \n",
              "13              0.0                  4.0           15.0             3.0   \n",
              "14              0.0                  1.0            7.0             0.0   \n",
              "\n",
              "    redDragonKills  redTowersDestroyed  \n",
              "0              0.0                 1.0  \n",
              "1              0.0                 0.0  \n",
              "2              0.0                 4.0  \n",
              "3              0.0                 0.0  \n",
              "4              0.0                 2.0  \n",
              "5              0.0                 0.0  \n",
              "6              0.0                 1.0  \n",
              "7              0.0                 1.0  \n",
              "8              0.0                 1.0  \n",
              "9              0.0                 1.0  \n",
              "10             0.0                 0.0  \n",
              "11             0.0                 1.0  \n",
              "12             0.0                 1.0  \n",
              "13             0.0                 0.0  \n",
              "14             0.0                 2.0  "
            ]
          },
          "metadata": {},
          "execution_count": 35
        }
      ]
    },
    {
      "cell_type": "code",
      "source": [
        "df.info()"
      ],
      "metadata": {
        "id": "oNyBJhKzO2DK",
        "outputId": "32169b61-5540-4743-b39f-c77e9e181ae3",
        "colab": {
          "base_uri": "https://localhost:8080/"
        }
      },
      "execution_count": null,
      "outputs": [
        {
          "output_type": "stream",
          "name": "stdout",
          "text": [
            "<class 'pandas.core.frame.DataFrame'>\n",
            "RangeIndex: 48651 entries, 0 to 48650\n",
            "Data columns (total 13 columns):\n",
            " #   Column                   Non-Null Count  Dtype  \n",
            "---  ------                   --------------  -----  \n",
            " 0   blue_win                 48651 non-null  int64  \n",
            " 1   blueGold                 48651 non-null  float64\n",
            " 2   blueMinionsKilled        48651 non-null  float64\n",
            " 3   blueJungleMinionsKilled  48651 non-null  float64\n",
            " 4   redGold                  48651 non-null  float64\n",
            " 5   redMinionsKilled         48651 non-null  float64\n",
            " 6   redJungleMinionsKilled   48651 non-null  float64\n",
            " 7   blueChampKills           48651 non-null  float64\n",
            " 8   blueHeraldKills          48651 non-null  float64\n",
            " 9   blueTowersDestroyed      48651 non-null  float64\n",
            " 10  redChampKills            48651 non-null  float64\n",
            " 11  redHeraldKills           48651 non-null  float64\n",
            " 12  redTowersDestroyed       48651 non-null  float64\n",
            "dtypes: float64(12), int64(1)\n",
            "memory usage: 4.8 MB\n"
          ]
        }
      ]
    },
    {
      "cell_type": "code",
      "source": [
        "#убираем  столбики с ID матча,  а также с номером по порядку.\n",
        "df = df.drop(['matchId','Unnamed: 0'], axis='columns')\n",
        "df.info()"
      ],
      "metadata": {
        "colab": {
          "base_uri": "https://localhost:8080/"
        },
        "id": "707DgtCkNqHK",
        "outputId": "8d80d782-08d7-47b1-c375-0d2db1c162e4"
      },
      "execution_count": null,
      "outputs": [
        {
          "output_type": "stream",
          "name": "stdout",
          "text": [
            "<class 'pandas.core.frame.DataFrame'>\n",
            "RangeIndex: 48651 entries, 0 to 48650\n",
            "Data columns (total 17 columns):\n",
            " #   Column                   Non-Null Count  Dtype  \n",
            "---  ------                   --------------  -----  \n",
            " 0   blue_win                 48651 non-null  int64  \n",
            " 1   blueGold                 48651 non-null  float64\n",
            " 2   blueMinionsKilled        48651 non-null  float64\n",
            " 3   blueJungleMinionsKilled  48651 non-null  float64\n",
            " 4   blueAvgLevel             48651 non-null  float64\n",
            " 5   redGold                  48651 non-null  float64\n",
            " 6   redMinionsKilled         48651 non-null  float64\n",
            " 7   redJungleMinionsKilled   48651 non-null  float64\n",
            " 8   redAvgLevel              48651 non-null  float64\n",
            " 9   blueChampKills           48651 non-null  float64\n",
            " 10  blueHeraldKills          48651 non-null  float64\n",
            " 11  blueDragonKills          48651 non-null  float64\n",
            " 12  blueTowersDestroyed      48651 non-null  float64\n",
            " 13  redChampKills            48651 non-null  float64\n",
            " 14  redHeraldKills           48651 non-null  float64\n",
            " 15  redDragonKills           48651 non-null  float64\n",
            " 16  redTowersDestroyed       48651 non-null  float64\n",
            "dtypes: float64(16), int64(1)\n",
            "memory usage: 6.3 MB\n"
          ]
        }
      ]
    },
    {
      "cell_type": "code",
      "source": [
        "#видим, что-что не так с redDragonKills и blueDragonKills, посмотрев таблицу понимаем, что в связи с механикой игры эти строчки остаются пустыми\n",
        "#Также убираем redAvgLevel и blueAvgLevel\n",
        "df = df.drop(['redDragonKills','blueDragonKills','redAvgLevel','blueAvgLevel'], axis='columns')\n",
        "df.info()"
      ],
      "metadata": {
        "colab": {
          "base_uri": "https://localhost:8080/"
        },
        "id": "u1cLMixINwD6",
        "outputId": "85788bf0-623d-474b-9e9f-5318c3bd730c"
      },
      "execution_count": null,
      "outputs": [
        {
          "output_type": "stream",
          "name": "stdout",
          "text": [
            "<class 'pandas.core.frame.DataFrame'>\n",
            "RangeIndex: 48651 entries, 0 to 48650\n",
            "Data columns (total 13 columns):\n",
            " #   Column                   Non-Null Count  Dtype  \n",
            "---  ------                   --------------  -----  \n",
            " 0   blue_win                 48651 non-null  int64  \n",
            " 1   blueGold                 48651 non-null  float64\n",
            " 2   blueMinionsKilled        48651 non-null  float64\n",
            " 3   blueJungleMinionsKilled  48651 non-null  float64\n",
            " 4   redGold                  48651 non-null  float64\n",
            " 5   redMinionsKilled         48651 non-null  float64\n",
            " 6   redJungleMinionsKilled   48651 non-null  float64\n",
            " 7   blueChampKills           48651 non-null  float64\n",
            " 8   blueHeraldKills          48651 non-null  float64\n",
            " 9   blueTowersDestroyed      48651 non-null  float64\n",
            " 10  redChampKills            48651 non-null  float64\n",
            " 11  redHeraldKills           48651 non-null  float64\n",
            " 12  redTowersDestroyed       48651 non-null  float64\n",
            "dtypes: float64(12), int64(1)\n",
            "memory usage: 4.8 MB\n"
          ]
        }
      ]
    },
    {
      "cell_type": "code",
      "source": [
        "y = df['blue_win'] # целевая переменная"
      ],
      "metadata": {
        "id": "l7zhFQ5OZAJz"
      },
      "execution_count": null,
      "outputs": []
    },
    {
      "cell_type": "code",
      "source": [
        "X = df.drop('blue_win', axis = 1) # признаки"
      ],
      "metadata": {
        "id": "bNZ_XBD9ZzRV"
      },
      "execution_count": null,
      "outputs": []
    },
    {
      "cell_type": "markdown",
      "metadata": {
        "id": "BshLAs_XU56h"
      },
      "source": [
        "Логистическая модель в sklearn реализована в классе LogisticRegression библиотеки linear_model"
      ]
    },
    {
      "cell_type": "code",
      "source": [
        "from sklearn.linear_model import LogisticRegression\n",
        "model = LogisticRegression(\n",
        "    # метод для поиска решения. Для небольших датасетов лучше подходит liblinear, sag и saga -- для больших.\n",
        "    # Варианты: newton-cg, lbfgs, liblinear, sag, saga\n",
        "    solver='liblinear',\n",
        "    # норма для регуляризации. Варианты: l2, l1.\n",
        "    penalty='l1',\n",
        "    # параметр регуляризации. Чем меньше, тем сильнее регуляризация. Положительный.\n",
        "    C=1e4,\n",
        "    # параметр для остановки поиска решения.(прекращается процесс обучения когда приближаемся к локальному минимому равному переменной tol)\n",
        "    tol=1e-4,\n",
        "    # Так как распознается 2 класса. \n",
        "    multi_class='ovr'\n",
        "    )"
      ],
      "metadata": {
        "id": "O22Z-U-1X8Ls"
      },
      "execution_count": null,
      "outputs": []
    },
    {
      "cell_type": "code",
      "source": [
        "model.fit(X, y)"
      ],
      "metadata": {
        "colab": {
          "base_uri": "https://localhost:8080/"
        },
        "id": "6YzAogJdYjpk",
        "outputId": "8dd43249-6a8e-4928-dd30-1c7d3e1c3472"
      },
      "execution_count": null,
      "outputs": [
        {
          "output_type": "execute_result",
          "data": {
            "text/plain": [
              "LogisticRegression(C=10000.0, multi_class='ovr', penalty='l1',\n",
              "                   solver='liblinear')"
            ]
          },
          "metadata": {},
          "execution_count": 39
        }
      ]
    },
    {
      "cell_type": "code",
      "source": [
        "preds = model.predict(X) #предсказанные значения"
      ],
      "metadata": {
        "id": "oGfARVtraLze"
      },
      "execution_count": null,
      "outputs": []
    },
    {
      "cell_type": "code",
      "source": [
        "#Матрица ошибок\n",
        "from sklearn import metrics\n",
        "conf_mat = metrics.confusion_matrix(y, preds)\n",
        "conf_mat = pd.DataFrame(conf_mat, index=model.classes_, columns=model.classes_)\n",
        "conf_mat"
      ],
      "metadata": {
        "colab": {
          "base_uri": "https://localhost:8080/",
          "height": 111
        },
        "id": "VQdlulURaOxQ",
        "outputId": "209f58ae-faa7-4b65-c54b-6c3e9dd6200b"
      },
      "execution_count": null,
      "outputs": [
        {
          "output_type": "execute_result",
          "data": {
            "text/html": [
              "\n",
              "  <div id=\"df-23040969-583c-494f-ba71-e5cf3d3f84b3\">\n",
              "    <div class=\"colab-df-container\">\n",
              "      <div>\n",
              "<style scoped>\n",
              "    .dataframe tbody tr th:only-of-type {\n",
              "        vertical-align: middle;\n",
              "    }\n",
              "\n",
              "    .dataframe tbody tr th {\n",
              "        vertical-align: top;\n",
              "    }\n",
              "\n",
              "    .dataframe thead th {\n",
              "        text-align: right;\n",
              "    }\n",
              "</style>\n",
              "<table border=\"1\" class=\"dataframe\">\n",
              "  <thead>\n",
              "    <tr style=\"text-align: right;\">\n",
              "      <th></th>\n",
              "      <th>0</th>\n",
              "      <th>1</th>\n",
              "    </tr>\n",
              "  </thead>\n",
              "  <tbody>\n",
              "    <tr>\n",
              "      <th>0</th>\n",
              "      <td>18871</td>\n",
              "      <td>5191</td>\n",
              "    </tr>\n",
              "    <tr>\n",
              "      <th>1</th>\n",
              "      <td>5155</td>\n",
              "      <td>19434</td>\n",
              "    </tr>\n",
              "  </tbody>\n",
              "</table>\n",
              "</div>\n",
              "      <button class=\"colab-df-convert\" onclick=\"convertToInteractive('df-23040969-583c-494f-ba71-e5cf3d3f84b3')\"\n",
              "              title=\"Convert this dataframe to an interactive table.\"\n",
              "              style=\"display:none;\">\n",
              "        \n",
              "  <svg xmlns=\"http://www.w3.org/2000/svg\" height=\"24px\"viewBox=\"0 0 24 24\"\n",
              "       width=\"24px\">\n",
              "    <path d=\"M0 0h24v24H0V0z\" fill=\"none\"/>\n",
              "    <path d=\"M18.56 5.44l.94 2.06.94-2.06 2.06-.94-2.06-.94-.94-2.06-.94 2.06-2.06.94zm-11 1L8.5 8.5l.94-2.06 2.06-.94-2.06-.94L8.5 2.5l-.94 2.06-2.06.94zm10 10l.94 2.06.94-2.06 2.06-.94-2.06-.94-.94-2.06-.94 2.06-2.06.94z\"/><path d=\"M17.41 7.96l-1.37-1.37c-.4-.4-.92-.59-1.43-.59-.52 0-1.04.2-1.43.59L10.3 9.45l-7.72 7.72c-.78.78-.78 2.05 0 2.83L4 21.41c.39.39.9.59 1.41.59.51 0 1.02-.2 1.41-.59l7.78-7.78 2.81-2.81c.8-.78.8-2.07 0-2.86zM5.41 20L4 18.59l7.72-7.72 1.47 1.35L5.41 20z\"/>\n",
              "  </svg>\n",
              "      </button>\n",
              "      \n",
              "  <style>\n",
              "    .colab-df-container {\n",
              "      display:flex;\n",
              "      flex-wrap:wrap;\n",
              "      gap: 12px;\n",
              "    }\n",
              "\n",
              "    .colab-df-convert {\n",
              "      background-color: #E8F0FE;\n",
              "      border: none;\n",
              "      border-radius: 50%;\n",
              "      cursor: pointer;\n",
              "      display: none;\n",
              "      fill: #1967D2;\n",
              "      height: 32px;\n",
              "      padding: 0 0 0 0;\n",
              "      width: 32px;\n",
              "    }\n",
              "\n",
              "    .colab-df-convert:hover {\n",
              "      background-color: #E2EBFA;\n",
              "      box-shadow: 0px 1px 2px rgba(60, 64, 67, 0.3), 0px 1px 3px 1px rgba(60, 64, 67, 0.15);\n",
              "      fill: #174EA6;\n",
              "    }\n",
              "\n",
              "    [theme=dark] .colab-df-convert {\n",
              "      background-color: #3B4455;\n",
              "      fill: #D2E3FC;\n",
              "    }\n",
              "\n",
              "    [theme=dark] .colab-df-convert:hover {\n",
              "      background-color: #434B5C;\n",
              "      box-shadow: 0px 1px 3px 1px rgba(0, 0, 0, 0.15);\n",
              "      filter: drop-shadow(0px 1px 2px rgba(0, 0, 0, 0.3));\n",
              "      fill: #FFFFFF;\n",
              "    }\n",
              "  </style>\n",
              "\n",
              "      <script>\n",
              "        const buttonEl =\n",
              "          document.querySelector('#df-23040969-583c-494f-ba71-e5cf3d3f84b3 button.colab-df-convert');\n",
              "        buttonEl.style.display =\n",
              "          google.colab.kernel.accessAllowed ? 'block' : 'none';\n",
              "\n",
              "        async function convertToInteractive(key) {\n",
              "          const element = document.querySelector('#df-23040969-583c-494f-ba71-e5cf3d3f84b3');\n",
              "          const dataTable =\n",
              "            await google.colab.kernel.invokeFunction('convertToInteractive',\n",
              "                                                     [key], {});\n",
              "          if (!dataTable) return;\n",
              "\n",
              "          const docLinkHtml = 'Like what you see? Visit the ' +\n",
              "            '<a target=\"_blank\" href=https://colab.research.google.com/notebooks/data_table.ipynb>data table notebook</a>'\n",
              "            + ' to learn more about interactive tables.';\n",
              "          element.innerHTML = '';\n",
              "          dataTable['output_type'] = 'display_data';\n",
              "          await google.colab.output.renderOutput(dataTable, element);\n",
              "          const docLink = document.createElement('div');\n",
              "          docLink.innerHTML = docLinkHtml;\n",
              "          element.appendChild(docLink);\n",
              "        }\n",
              "      </script>\n",
              "    </div>\n",
              "  </div>\n",
              "  "
            ],
            "text/plain": [
              "       0      1\n",
              "0  18871   5191\n",
              "1   5155  19434"
            ]
          },
          "metadata": {},
          "execution_count": 41
        }
      ]
    },
    {
      "cell_type": "markdown",
      "source": [
        "Ошибки есть, но в целом оба класса предсказывают неплохо. Есть вариант как-то поиграться еще с предобработкой данных, но пока оставим как есть"
      ],
      "metadata": {
        "id": "bFZ3PCiyaYHV"
      }
    },
    {
      "cell_type": "code",
      "source": [
        "pred_prob = model.predict_proba(X) #выдает результат в виде вероятности"
      ],
      "metadata": {
        "id": "4XhHGdsEarD8"
      },
      "execution_count": null,
      "outputs": []
    },
    {
      "cell_type": "code",
      "source": [
        "preds = pred_prob[:,1]\n",
        "fpr, tpr, threshold = metrics.roc_curve(y, preds)\n",
        "roc_auc = metrics.auc(fpr, tpr)\n",
        "#frp - false positive rate (горизонтальная ось)\n",
        "#tpr (recall) - true positive rate (вертикальная ось)\n",
        "# каждая точка на графике ROC AUC соответствует выбору некоторого порога (про это ниже)"
      ],
      "metadata": {
        "id": "gX6eGWdFawf9"
      },
      "execution_count": null,
      "outputs": []
    },
    {
      "cell_type": "code",
      "source": [
        "import matplotlib.pyplot as plt\n",
        "plt.title('Receiver Operating Characteristic')\n",
        "plt.plot(fpr, tpr, 'b', label = 'AUC = %0.2f' % roc_auc)\n",
        "plt.legend(loc = 'lower right')\n",
        "plt.plot([0, 1], [0, 1],'r--')\n",
        "plt.xlim([0, 1])\n",
        "plt.ylim([0, 1])\n",
        "plt.ylabel('True Positive Rate')\n",
        "plt.xlabel('False Positive Rate')\n",
        "plt.show()"
      ],
      "metadata": {
        "colab": {
          "base_uri": "https://localhost:8080/",
          "height": 295
        },
        "id": "N3wvNAuJa0Xr",
        "outputId": "23a294f5-af2a-4125-dfab-eafde309e639"
      },
      "execution_count": null,
      "outputs": [
        {
          "output_type": "display_data",
          "data": {
            "image/png": "[encoded data removed]",
            "text/plain": [
              "<Figure size 432x288 with 1 Axes>"
            ]
          },
          "metadata": {
            "needs_background": "light"
          }
        }
      ]
    },
    {
      "cell_type": "markdown",
      "source": [
        "Результаты применения L1 и L2\n",
        "penalty='l2' C=1 AUC = 0.87\n",
        "\n",
        "penalty='l2' C=1e2 AUC = 0.87\n",
        "\n",
        "penalty='l2' C=1e4 AUC = 0.87\n",
        "\n",
        "penalty='l1' C=1 AUC = 0.87\n",
        "\n",
        "penalty='l1' C=1e2 AUC = 0.87\n",
        "\n",
        "penalty='l1' C=1e4 AUC = 0.87\n"
      ],
      "metadata": {
        "id": "FNEPoO9keijs"
      }
    },
    {
      "cell_type": "code",
      "source": [
        "#посмотрим на наши признаки\n",
        "model.coef_"
      ],
      "metadata": {
        "colab": {
          "base_uri": "https://localhost:8080/"
        },
        "id": "fo3YycB5bA7A",
        "outputId": "b7a88d33-0572-4e90-dd8c-453864caea2c"
      },
      "execution_count": null,
      "outputs": [
        {
          "output_type": "execute_result",
          "data": {
            "text/plain": [
              "array([[ 3.50339677e-07, -4.36613617e-11,  2.58130101e-04,\n",
              "         2.63683253e-03,  4.02078440e-03,  4.96511192e-01,\n",
              "        -2.30699753e-04, -3.22999724e-03, -5.80983380e-03,\n",
              "        -5.19203532e-01,  6.22911554e-02,  1.77303398e-01,\n",
              "         0.00000000e+00, -4.30469721e-03, -7.31025201e-02,\n",
              "        -1.91661771e-01,  0.00000000e+00, -6.35655518e-02]])"
            ]
          },
          "metadata": {},
          "execution_count": 45
        }
      ]
    },
    {
      "cell_type": "code",
      "source": [
        "len(model.coef_[0])"
      ],
      "metadata": {
        "colab": {
          "base_uri": "https://localhost:8080/"
        },
        "id": "dEO3kEf1bDrh",
        "outputId": "8f6b4171-0913-4a4e-938a-85ac96c9e42c"
      },
      "execution_count": null,
      "outputs": [
        {
          "output_type": "execute_result",
          "data": {
            "text/plain": [
              "18"
            ]
          },
          "metadata": {},
          "execution_count": 46
        }
      ]
    },
    {
      "cell_type": "code",
      "source": [
        "# для наглядности сделаем все в словаре, тк после удаления можем потерять нумерацию столбцов\n",
        "col = [i for i in range(18)]\n",
        "listValues = model.coef_[0]\n",
        "myDict = {col[i]:listValues[i] for i in range(0, len(col), 1)} \n",
        "for key in myDict:\n",
        "    print(key, '->', myDict[key])"
      ],
      "metadata": {
        "colab": {
          "base_uri": "https://localhost:8080/"
        },
        "id": "QV54brrgbGz8",
        "outputId": "f1291727-0ab6-4b24-f317-7ac116778122"
      },
      "execution_count": null,
      "outputs": [
        {
          "output_type": "stream",
          "name": "stdout",
          "text": [
            "0 -> 3.503396773686147e-07\n",
            "1 -> -4.366136169632876e-11\n",
            "2 -> 0.0002581301010670769\n",
            "3 -> 0.0026368325293171634\n",
            "4 -> 0.004020784401689255\n",
            "5 -> 0.49651119237353203\n",
            "6 -> -0.00023069975266142568\n",
            "7 -> -0.0032299972425599258\n",
            "8 -> -0.005809833800267175\n",
            "9 -> -0.519203532373366\n",
            "10 -> 0.06229115543027149\n",
            "11 -> 0.17730339837260906\n",
            "12 -> 0.0\n",
            "13 -> -0.004304697211075088\n",
            "14 -> -0.07310252011017879\n",
            "15 -> -0.19166177113251776\n",
            "16 -> 0.0\n",
            "17 -> -0.06356555180839957\n"
          ]
        }
      ]
    },
    {
      "cell_type": "code",
      "source": [
        "# если значения признака меньше 0.01 удалим его (считаем их близкими к нулю)\n",
        "key_new = list()\n",
        "for key in myDict:\n",
        "    if myDict[key] < 0.01:\n",
        "        key_new.append(key)\n",
        "print(key_new) # номера столбцов которые мы будем удалять для метода ближайших соседей"
      ],
      "metadata": {
        "colab": {
          "base_uri": "https://localhost:8080/"
        },
        "id": "Cbph2lBUbzlW",
        "outputId": "05798fc1-0d00-472f-cb79-efbdf487b691"
      },
      "execution_count": null,
      "outputs": [
        {
          "output_type": "stream",
          "name": "stdout",
          "text": [
            "[0, 1, 2, 3, 4, 6, 7, 8, 9, 12, 13, 14, 15, 16, 17]\n"
          ]
        }
      ]
    },
    {
      "cell_type": "code",
      "source": [
        "df1 = pd.read_csv('/content/MatchTimelinesFirst15.csv')"
      ],
      "metadata": {
        "id": "iDubKVPVb5PN"
      },
      "execution_count": null,
      "outputs": []
    },
    {
      "cell_type": "code",
      "source": [
        "c = df.columns"
      ],
      "metadata": {
        "id": "uaYq7XSJcBTv"
      },
      "execution_count": null,
      "outputs": []
    },
    {
      "cell_type": "code",
      "source": [
        "for i in key_new:\n",
        "     df1.drop([c[i]], axis = 1, inplace = True)"
      ],
      "metadata": {
        "id": "9J3yIT4FcD59"
      },
      "execution_count": null,
      "outputs": []
    },
    {
      "cell_type": "code",
      "source": [
        "df1.info()\n",
        "#видим что все поля числовые"
      ],
      "metadata": {
        "colab": {
          "base_uri": "https://localhost:8080/"
        },
        "id": "b6xcm-_VcGVE",
        "outputId": "66d18e37-1bf7-4507-e6af-08beed338961"
      },
      "execution_count": null,
      "outputs": [
        {
          "output_type": "stream",
          "name": "stdout",
          "text": [
            "<class 'pandas.core.frame.DataFrame'>\n",
            "RangeIndex: 48651 entries, 0 to 48650\n",
            "Data columns (total 4 columns):\n",
            " #   Column                   Non-Null Count  Dtype  \n",
            "---  ------                   --------------  -----  \n",
            " 0   blueJungleMinionsKilled  48651 non-null  float64\n",
            " 1   redAvgLevel              48651 non-null  float64\n",
            " 2   blueChampKills           48651 non-null  float64\n",
            " 3   redTowersDestroyed       48651 non-null  float64\n",
            "dtypes: float64(4)\n",
            "memory usage: 1.5 MB\n"
          ]
        }
      ]
    },
    {
      "cell_type": "code",
      "source": [
        "X_train, X_test, y_train, y_test = train_test_split(X, y)"
      ],
      "metadata": {
        "id": "WhEzVjSQdAJy"
      },
      "execution_count": null,
      "outputs": []
    },
    {
      "cell_type": "code",
      "source": [
        "# импортируем класс классификатора по ближайшим соседям\n",
        "from sklearn.neighbors import KNeighborsClassifier\n",
        "\n",
        "# создадим наш классификатор\n",
        "clf = KNeighborsClassifier(n_neighbors=3)\n",
        "# обучим классификатор на тренировочной выборке\n",
        "clf.fit(X_train, y_train)\n",
        "# подсчитаем долю верных ответов алгоритма на тестовой выборке.\n",
        "clf.score(X_test, y_test)"
      ],
      "metadata": {
        "colab": {
          "base_uri": "https://localhost:8080/"
        },
        "id": "IW8Le5NTdSnI",
        "outputId": "43231c1e-3843-442e-bb82-0189927582f8"
      },
      "execution_count": null,
      "outputs": [
        {
          "output_type": "execute_result",
          "data": {
            "text/plain": [
              "0.5674586861793965"
            ]
          },
          "metadata": {},
          "execution_count": 59
        }
      ]
    }
  ]
}